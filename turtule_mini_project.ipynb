{
 "cells": [
  {
   "cell_type": "code",
   "execution_count": null,
   "metadata": {},
   "outputs": [],
   "source": [
    "import turtle\n",
    "def draw_square(some_turtle):\n",
    "    for i in range(1,5):\n",
    "        some_turtle.forward(100)\n",
    "        some_turtle.right(90)\n",
    "\n",
    "def draw_art():\n",
    "    window = turtle.Screen()\n",
    "    window.bgcolor(\"blue\")\n",
    "    #creating turtle\n",
    "    brad= turtle.Turtle()\n",
    "    brad.shape(\"turtle\")\n",
    "    brad.color(\"yellow\")\n",
    "    brad.speed(5)\n",
    "    for i in range(1,361):\n",
    "        draw_square(brad)\n",
    "        brad.right(10)\n",
    "    window.exitonclick()\n",
    "draw_art()"
   ]
  },
  {
   "cell_type": "code",
   "execution_count": null,
   "metadata": {},
   "outputs": [],
   "source": []
  }
 ],
 "metadata": {
  "kernelspec": {
   "display_name": "Python 3",
   "language": "python",
   "name": "python3"
  }
 },
 "nbformat": 4,
 "nbformat_minor": 2
}
